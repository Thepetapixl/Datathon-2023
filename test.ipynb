{
 "cells": [
  {
   "cell_type": "code",
   "execution_count": 9,
   "metadata": {},
   "outputs": [],
   "source": [
    "import pandas as pd\n",
    "import os\n",
    "import math\n",
    "from nltk.corpus import stopwords\n",
    "from nltk.tokenize import RegexpTokenizer\n",
    "from nltk.stem import PorterStemmer\n"
   ]
  },
  {
   "cell_type": "code",
   "execution_count": 2,
   "metadata": {},
   "outputs": [
    {
     "data": {
      "text/plain": [
       "(22501, 3)"
      ]
     },
     "execution_count": 2,
     "metadata": {},
     "output_type": "execute_result"
    }
   ],
   "source": [
    "path = \"checkworthy_labeled.csv\"\n",
    "check = pd.read_csv(path)\n",
    "\n",
    "check.shape"
   ]
  },
  {
   "cell_type": "code",
   "execution_count": 10,
   "metadata": {},
   "outputs": [
    {
     "name": "stdout",
     "output_type": "stream",
     "text": [
      "Feature names:\n",
      "0        No\n",
      "1        No\n",
      "2        No\n",
      "3        No\n",
      "4        No\n",
      "         ..\n",
      "22496    No\n",
      "22497    No\n",
      "22498    No\n",
      "22499    No\n",
      "22500    No\n",
      "Name: Category, Length: 22501, dtype: object\n"
     ]
    }
   ],
   "source": [
    "print(\"Feature names:\\n{}\".format(check.Category))"
   ]
  },
  {
   "cell_type": "code",
   "execution_count": 11,
   "metadata": {},
   "outputs": [],
   "source": []
  },
  {
   "cell_type": "code",
   "execution_count": 25,
   "metadata": {},
   "outputs": [],
   "source": [
    "# Drop the 'Id' column if it exists\n",
    "stopwords_list = stopwords.words('english') # Get the list of English stopwords\n",
    "stemmer = PorterStemmer() # Initialize PorterStemmer\n",
    "\n",
    "# Function to preprocess text\n",
    "def preprocess_text(text):\n",
    "    # Convert text to lowercase\n",
    "    text = text.lower()\n",
    "    # Tokenize text into words\n",
    "    words = text.split()\n",
    "    # Remove stopwords\n",
    "    words = [word for word in words if word not in stopwords_list]\n",
    "    # Apply stemming\n",
    "    words = [stemmer.stem(word) for word in words]\n",
    "    # Join words back into a single string\n",
    "    processed_text = ' '.join(words)\n",
    "    return processed_text\n",
    "\n",
    "# Apply text preprocessing to 'Text' column in the DataFrame\n",
    "check['Text'] = check['Text'].apply(preprocess_text)\n",
    "\n",
    "if 'Id' in check.columns:\n",
    "    df = check.drop('Id', axis=1)\n",
    "\n",
    "\n",
    "text_category_dict = check.set_index('Text')['Category'].to_dict()"
   ]
  },
  {
   "cell_type": "code",
   "execution_count": null,
   "metadata": {},
   "outputs": [],
   "source": [
    "# text_category_dict"
   ]
  }
 ],
 "metadata": {
  "kernelspec": {
   "display_name": "Python 3",
   "language": "python",
   "name": "python3"
  },
  "language_info": {
   "codemirror_mode": {
    "name": "ipython",
    "version": 3
   },
   "file_extension": ".py",
   "mimetype": "text/x-python",
   "name": "python",
   "nbconvert_exporter": "python",
   "pygments_lexer": "ipython3",
   "version": "3.7.7"
  },
  "orig_nbformat": 4
 },
 "nbformat": 4,
 "nbformat_minor": 2
}
